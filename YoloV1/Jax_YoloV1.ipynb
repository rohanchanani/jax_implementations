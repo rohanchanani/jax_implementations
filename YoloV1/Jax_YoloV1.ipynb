{
  "nbformat": 4,
  "nbformat_minor": 0,
  "metadata": {
    "colab": {
      "name": "Jax_YoloV1",
      "provenance": []
    },
    "kernelspec": {
      "name": "python3",
      "display_name": "Python 3"
    },
    "language_info": {
      "name": "python"
    }
  },
  "cells": [
    {
      "cell_type": "markdown",
      "source": [
        "# Jax YoloV1"
      ],
      "metadata": {
        "id": "rkjEMsAnqBey"
      }
    },
    {
      "cell_type": "code",
      "source": [
        "!pip install --upgrade -q pip jax jaxlib\n",
        "!pip install --upgrade -q git+https://github.com/google/flax.git"
      ],
      "metadata": {
        "colab": {
          "base_uri": "https://localhost:8080/"
        },
        "id": "DHgxSwvW63Ua",
        "outputId": "86602ef9-98f9-477f-b96b-2032884bfb91"
      },
      "execution_count": 1,
      "outputs": [
        {
          "output_type": "stream",
          "name": "stdout",
          "text": [
            "\u001b[K     |████████████████████████████████| 1.7 MB 5.2 MB/s \n",
            "\u001b[K     |████████████████████████████████| 850 kB 46.3 MB/s \n",
            "\u001b[K     |████████████████████████████████| 62.2 MB 1.2 MB/s \n",
            "\u001b[?25h  Building wheel for jax (setup.py) ... \u001b[?25l\u001b[?25hdone\n",
            "  Preparing metadata (setup.py) ... \u001b[?25l\u001b[?25hdone\n",
            "     |████████████████████████████████| 126 kB 5.3 MB/s            \n",
            "     |████████████████████████████████| 65 kB 2.6 MB/s             \n",
            "\u001b[?25h  Building wheel for flax (setup.py) ... \u001b[?25l\u001b[?25hdone\n",
            "\u001b[33mWARNING: Running pip as the 'root' user can result in broken permissions and conflicting behaviour with the system package manager. It is recommended to use a virtual environment instead: https://pip.pypa.io/warnings/venv\u001b[0m\n"
          ]
        }
      ]
    },
    {
      "cell_type": "code",
      "source": [
        "#for GPU support in colab\n",
        "!dpkg -i \"/content/libcudnn8_8.1.0.77-1+cuda11.2_amd64.deb\""
      ],
      "metadata": {
        "colab": {
          "base_uri": "https://localhost:8080/"
        },
        "id": "h94IEWAMQkxi",
        "outputId": "c4ecd9d2-5668-42a8-ef2b-7760034c5dd3"
      },
      "execution_count": 2,
      "outputs": [
        {
          "output_type": "stream",
          "name": "stdout",
          "text": [
            "(Reading database ... 155225 files and directories currently installed.)\n",
            "Preparing to unpack .../libcudnn8_8.1.0.77-1+cuda11.2_amd64.deb ...\n",
            "Unpacking libcudnn8 (8.1.0.77-1+cuda11.2) over (8.0.5.39-1+cuda11.1) ...\n",
            "Setting up libcudnn8 (8.1.0.77-1+cuda11.2) ...\n",
            "Processing triggers for libc-bin (2.27-3ubuntu1.3) ...\n",
            "/sbin/ldconfig.real: /usr/local/lib/python3.7/dist-packages/ideep4py/lib/libmkldnn.so.0 is not a symbolic link\n",
            "\n"
          ]
        }
      ]
    },
    {
      "cell_type": "code",
      "execution_count": 4,
      "metadata": {
        "colab": {
          "base_uri": "https://localhost:8080/"
        },
        "id": "KhgclUXV6cp9",
        "outputId": "5a3c068d-1edc-40fd-c7d4-0e458624243c"
      },
      "outputs": [
        {
          "output_type": "stream",
          "name": "stdout",
          "text": [
            "(224, 224, 64)\n",
            "(112, 112, 64)\n",
            "(112, 112, 192)\n",
            "(56, 56, 192)\n",
            "(56, 56, 128)\n",
            "(56, 56, 256)\n",
            "(56, 56, 256)\n",
            "(56, 56, 512)\n",
            "(28, 28, 512)\n",
            "(28, 28, 256)\n",
            "(28, 28, 512)\n",
            "(28, 28, 256)\n",
            "(28, 28, 512)\n",
            "(28, 28, 256)\n",
            "(28, 28, 512)\n",
            "(28, 28, 256)\n",
            "(28, 28, 512)\n",
            "(28, 28, 512)\n",
            "(28, 28, 1024)\n",
            "(14, 14, 1024)\n",
            "(14, 14, 512)\n",
            "(14, 14, 1024)\n",
            "(14, 14, 512)\n",
            "(14, 14, 1024)\n",
            "(7, 7, 1024)\n",
            "(7, 7, 1024)\n",
            "(7, 7, 1024)\n"
          ]
        }
      ],
      "source": [
        "from jax import nn as jnn, numpy as jnp, random\n",
        "from flax import linen as nn\n",
        "from typing import Sequence\n",
        "\n",
        "#Each tuple represents a convolutional or maxpool layer in the YoloV1 architecture\n",
        "#(Features, Dimension of Kernel Size, Stride, Padding on either side) for convolutional layers\n",
        "#(0,) represents 2 X 2 max pool layer with stride of 2\n",
        "MODEL_ARCHITECTURE = [\n",
        "  (64, 7, 2, 3),\n",
        "  (0,),\n",
        "  (192, 3, 1, 1),\n",
        "  (0,),\n",
        "  (128, 1, 1, 0),\n",
        "  (256, 3, 1, 1),\n",
        "  (256, 1, 1, 0),\n",
        "  (512, 3, 1, 1),\n",
        "  (0,),\n",
        "  (256, 1, 1, 0),\n",
        "  (512, 3, 1, 1),\n",
        "  (256, 1, 1, 0),\n",
        "  (512, 3, 1, 1),\n",
        "  (256, 1, 1, 0),\n",
        "  (512, 3, 1, 1),\n",
        "  (256, 1, 1, 0),\n",
        "  (512, 3, 1, 1),\n",
        "  (512, 1, 1, 0),\n",
        "  (1024, 3, 1, 1),\n",
        "  (0,),\n",
        "  (512, 1, 1, 0),\n",
        "  (1024, 3, 1, 1),\n",
        "  (512, 1, 1, 0),\n",
        "  (1024, 3, 1, 1),\n",
        "  (1024, 3, 2, 1),\n",
        "  (1024, 3, 1, 1),\n",
        "  (1024, 3, 1, 1)\n",
        "]\n",
        "\n",
        "#Each max pool layer in YoloV1 is identical\n",
        "def max_pool_layer(x):\n",
        "  return nn.max_pool(x, (2, 2), (2, 2))\n",
        "\n",
        "class YoloV1(nn.Module):\n",
        "  #Properties of each convolutional layer\n",
        "  conv_structures: Sequence[tuple]\n",
        "\n",
        "  #split size\n",
        "  S: int\n",
        "\n",
        "  #number of bounding boxes per grid position\n",
        "  B: int\n",
        "\n",
        "  #number of classes\n",
        "  C: int\n",
        "\n",
        "  #For N X N output grid, split_size represents N\n",
        "  #num_boxes represents number of bounding boxes per grid position\n",
        "  #num_classes represents how many object classes the model can detect\n",
        "  #split_size X split_size is number of grid positions\n",
        "  #num_boxes * (x, y, w, h, and confidence for each box) + one probability value for each class per box is number of values per grid position\n",
        "  #multiply values per grid spot by number of grid spots for number of neurons in output layer\n",
        "  def get_output_length(self, split_size, num_boxes, num_classes):\n",
        "    return split_size * split_size * (5 * num_boxes + num_classes)\n",
        "\n",
        "  def setup(self):\n",
        "    #converting the model architecture to flax layers\n",
        "    self.conv_layers = [nn.Conv(conv_structure[0], (conv_structure[1], conv_structure[1]), (conv_structure[2], conv_structure[2]), [(conv_structure[3], conv_structure[3]), (conv_structure[3], conv_structure[3])]) if len(conv_structure)==4 else max_pool_layer for conv_structure in self.conv_structures]\n",
        "    \n",
        "    #actual model has hidden layer with 4096 neurons, using 496 to make training/inference time more reasonable\n",
        "    self.dense_layers = [nn.Dense(496), nn.Dense(self.get_output_length(self.S, self.B, self.C))]\n",
        "\n",
        "  def __call__(self, inputs):\n",
        "    x = inputs\n",
        "    for conv_layer in self.conv_layers:\n",
        "      x = conv_layer(x)\n",
        "      print(x.shape) #make sure the shapes of each layer match the paper's model architecture\n",
        "      \n",
        "      #activation function for each convolutional layer\n",
        "      if conv_layer != max_pool_layer:\n",
        "        x = jnn.leaky_relu(x, 0.1)\n",
        "    \n",
        "    #flattening to pass into dense layers\n",
        "    x = jnp.ravel(x)\n",
        "\n",
        "    for i, dense_layer in enumerate(self.dense_layers):\n",
        "      x = dense_layer(x)\n",
        "      if i != len(self.dense_layers) - 1:\n",
        "        x = jnn.leaky_relu(x)\n",
        "    return x\n",
        "\n",
        "#initializing using default values from paper\n",
        "model = YoloV1(conv_structures=MODEL_ARCHITECTURE, S=7, B=2, C=20)\n",
        "key1, key2 = random.split(random.PRNGKey(1000), 2)\n",
        "\n",
        "#model works with 448 X 448 RGB images\n",
        "inputs = random.uniform(key1, (448, 448, 3))\n",
        "params = model.init(key2, inputs)"
      ]
    },
    {
      "cell_type": "code",
      "source": [
        "from IPython.display import clear_output\n",
        "y = model.apply(params, inputs)\n",
        "clear_output()\n",
        "#number of output neurons = 7 * 7 * (20 + 2 * 5) = 1470\n",
        "y.shape"
      ],
      "metadata": {
        "colab": {
          "base_uri": "https://localhost:8080/"
        },
        "id": "FkDwSXmPrypd",
        "outputId": "d267f9c3-5b3c-499e-de9a-01410b00bbdd"
      },
      "execution_count": 5,
      "outputs": [
        {
          "output_type": "execute_result",
          "data": {
            "text/plain": [
              "(1470,)"
            ]
          },
          "metadata": {},
          "execution_count": 5
        }
      ]
    }
  ]
}