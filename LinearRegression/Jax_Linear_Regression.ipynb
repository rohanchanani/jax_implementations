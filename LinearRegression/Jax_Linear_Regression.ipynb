{
  "nbformat": 4,
  "nbformat_minor": 0,
  "metadata": {
    "colab": {
      "name": "Jax_Linear_Regression",
      "provenance": [],
      "collapsed_sections": []
    },
    "kernelspec": {
      "name": "python3",
      "display_name": "Python 3"
    },
    "language_info": {
      "name": "python"
    }
  },
  "cells": [
    {
      "cell_type": "markdown",
      "source": [
        "#Jax Linear Regression"
      ],
      "metadata": {
        "id": "zyv0AFqU-1UG"
      }
    },
    {
      "cell_type": "code",
      "source": [
        "import jax.numpy as jnp\n",
        "from jax import grad, jit, vmap, random, tree_multimap"
      ],
      "metadata": {
        "id": "XHNci88b-35C"
      },
      "execution_count": 1,
      "outputs": []
    },
    {
      "cell_type": "code",
      "source": [
        "#Returns a prediction value given inputs and parameters\n",
        "def pred(x, params):\n",
        "  return jnp.dot(params[\"weights\"], x) + params[\"bias\"]\n",
        "\n",
        "#Vectorized version of prediction file for batches of inputs (multiple rows)\n",
        "multiple_preds = vmap(pred, (0, None))\n",
        "\n",
        "#Given parameters, batch of inputs, and batch of corresponding true outputs, returns mean squared error.\n",
        "def mse(params, x_multiple, y_multiple):\n",
        "  print(x_multiple.shape)\n",
        "  prediction = multiple_preds(x_multiple, params)\n",
        "  actual = y_multiple\n",
        "  return jnp.mean(jnp.multiply(prediction - actual, prediction - actual))\n",
        "\n",
        "#Given parameters, batch of inputs, and batch of corresponding true outputs, returns R^2 value.\n",
        "def score(params, x_multiple, y_multiple):\n",
        "  prediction = multiple_preds(x_multiple, params)\n",
        "  actual = y_multiple\n",
        "  return 1 - (jnp.dot(prediction - actual, prediction - actual) / jnp.dot(actual - jnp.mean(actual), actual - jnp.mean(actual)))"
      ],
      "metadata": {
        "id": "c8c6FGJxO2J7"
      },
      "execution_count": 2,
      "outputs": []
    },
    {
      "cell_type": "code",
      "source": [
        "class LinearRegression:\n",
        "  \n",
        "  #Given inputs and correct output, trains a one layer Linear Regression model.\n",
        "  def train(self, x_data, y_data, num_steps=1000, step_size=0.01, display_info_step=100):\n",
        "    dimension = x_data.shape[1]\n",
        "    key = random.PRNGKey(1509)\n",
        "\n",
        "    #Initialize parameters\n",
        "    w_key, b_key = random.split(key)\n",
        "    current_params = {\"weights\": random.normal(w_key, (dimension,)), \"bias\": random.normal(b_key)}\n",
        "\n",
        "    #At each step, updates the parameters with using the gradient of mse function\n",
        "    def training_step(params, x_multiple, y_multiple, step_size):\n",
        "      loss_gradients = grad(mse)(params, x_multiple, y_multiple)\n",
        "      return tree_multimap(lambda param, gradient: param - gradient * step_size, params, loss_gradients)\n",
        "    \n",
        "    #Compile training_step function with jit\n",
        "    jit_training_step = jit(training_step)\n",
        "    \n",
        "    #Now the actual training\n",
        "    for i in range(num_steps):\n",
        "      current_params = jit_training_step(current_params, x_data, y_data, step_size)\n",
        "      if display_info_step > 0:\n",
        "        if i % display_info_step == 0:\n",
        "          print(f\"Step {i} R-Squared: {score(current_params, x_data, y_data)}\")\n",
        "\n",
        "    #Sets the model's coefficients and intercept properties to the final parameters\n",
        "    self.coefficients = current_params[\"weights\"]\n",
        "    self.intercept = current_params[\"bias\"]\n",
        "\n",
        "  #Given an input, returns a prediction using the stored parameters.\n",
        "  def predict(self, x, multiple=False):\n",
        "    params = {\"weights\": self.coefficients, \"bias\": self.intercept}\n",
        "    if multiple:\n",
        "      return multiple_preds(x, params)\n",
        "    else:\n",
        "      return pred(x, params)"
      ],
      "metadata": {
        "id": "hUFM0-D8_VQj"
      },
      "execution_count": 3,
      "outputs": []
    },
    {
      "cell_type": "code",
      "source": [
        "import numpy as np\n",
        "from sklearn import preprocessing\n",
        "from sklearn.preprocessing import StandardScaler\n",
        "import pandas as pd"
      ],
      "metadata": {
        "id": "dL_OO8YDZWIT"
      },
      "execution_count": 4,
      "outputs": []
    },
    {
      "cell_type": "code",
      "source": [
        "house_data = pd.read_csv(\"house_train.csv\")"
      ],
      "metadata": {
        "id": "XBgqaEYPVzas"
      },
      "execution_count": 5,
      "outputs": []
    },
    {
      "cell_type": "code",
      "source": [
        "def sorting(df, target):\n",
        "  preparation_df = df.copy()\n",
        "  preparation_df.fillna('none', inplace=True)\n",
        "  dtype_list = preparation_df.dtypes.tolist()\n",
        "  for idx, val in enumerate(dtype_list):\n",
        "    dtype_list[idx] = str(val)\n",
        "  categorical_variables = []\n",
        "  for idx, val in enumerate(preparation_df.columns.tolist()):\n",
        "    if dtype_list[idx] == 'object':\n",
        "      categorical_variables.append(val)\n",
        "  categorical_variables.append('MSSubClass')\n",
        "  sort_columns = []\n",
        "  for column in categorical_variables:\n",
        "    sort_columns.append(preparation_df.groupby(column).mean().sort_values(by=target).index.tolist())        \n",
        "  return sort_columns, categorical_variables"
      ],
      "metadata": {
        "id": "cxhBDs-bX8v2"
      },
      "execution_count": 6,
      "outputs": []
    },
    {
      "cell_type": "code",
      "source": [
        "def preparation(df, sorted_columns_list, categorical_variables):\n",
        "    preparation_df = df.copy()\n",
        "    preparation_df.fillna('none', inplace=True)\n",
        "    for column in categorical_variables:\n",
        "        globals()['{}_list'.format(column)] = preparation_df[column].tolist()\n",
        "        for idx, val in enumerate(sorted_columns_list[categorical_variables.index(column)]):\n",
        "            for index, value in enumerate(globals()['{}_list'.format(column)]):\n",
        "                if value == val:\n",
        "                    globals()['{}_list'.format(column)][index]=idx\n",
        "        preparation_df[column]=globals()['{}_list'.format(column)]\n",
        "        preparation_df.replace('none', 0, inplace=True)\n",
        "    return preparation_df"
      ],
      "metadata": {
        "id": "XBT55tS4YeYH"
      },
      "execution_count": 7,
      "outputs": []
    },
    {
      "cell_type": "code",
      "source": [
        "def correlation(df, target, corr_constant):\n",
        "    preparation_df = df.copy()\n",
        "    correlation_df = preparation_df.corr()\n",
        "    features = correlation_df[abs(correlation_df[target])>corr_constant][[target]].index.tolist()\n",
        "    return features[0:-1]"
      ],
      "metadata": {
        "id": "JaZ1I4BIYe5t"
      },
      "execution_count": 8,
      "outputs": []
    },
    {
      "cell_type": "code",
      "source": [
        "def variable_prep(prepped_df):\n",
        "    X = preprocessing.StandardScaler().fit(prepped_df).transform(prepped_df.astype(float))\n",
        "    return X"
      ],
      "metadata": {
        "id": "hSmAjkGCYjQL"
      },
      "execution_count": 9,
      "outputs": []
    },
    {
      "cell_type": "code",
      "source": [
        "def train_test_prep(train_df, test_df, target, corr_constant):\n",
        "    sorted_columns, categorical_variables = sorting(train_df, target)\n",
        "    prepped_train_df = preparation(train_df, sorted_columns, categorical_variables)\n",
        "    features = correlation(prepped_train_df, target, corr_constant)\n",
        "    prepped_test_df = preparation(test_df, sorted_columns, categorical_variables)\n",
        "    y_train = np.array(prepped_train_df[target])\n",
        "    prepped_train_df.drop(\"SalePrice\", 1)\n",
        "    X_test = variable_prep(prepped_test_df[features])\n",
        "    X_train = variable_prep(prepped_train_df[features])\n",
        "    return X_train, y_train, X_test"
      ],
      "metadata": {
        "id": "CqGe_UGKYbIn"
      },
      "execution_count": 10,
      "outputs": []
    },
    {
      "cell_type": "code",
      "source": [
        "x_data, y_data, _ = train_test_prep(house_data, house_data.drop(\"SalePrice\", axis=1), \"SalePrice\", 0.06)"
      ],
      "metadata": {
        "id": "gaOLkaTJYb99"
      },
      "execution_count": 11,
      "outputs": []
    },
    {
      "cell_type": "code",
      "source": [
        "model = LinearRegression()\n",
        "model.train(x_data, y_data)"
      ],
      "metadata": {
        "colab": {
          "base_uri": "https://localhost:8080/"
        },
        "id": "s9-Tl7FVZs7u",
        "outputId": "eda5cc1c-3fe1-4c86-f950-eb35a2bcf95a"
      },
      "execution_count": 12,
      "outputs": [
        {
          "output_type": "stream",
          "name": "stderr",
          "text": [
            "WARNING:absl:No GPU/TPU found, falling back to CPU. (Set TF_CPP_MIN_LOG_LEVEL=0 and rerun for more info.)\n"
          ]
        },
        {
          "output_type": "stream",
          "name": "stdout",
          "text": [
            "(1460, 67)\n",
            "Step 0 R-Squared: -4.616201400756836\n",
            "Step 100 R-Squared: 0.7634928226470947\n",
            "Step 200 R-Squared: 0.8541419506072998\n",
            "Step 300 R-Squared: 0.8570235967636108\n",
            "Step 400 R-Squared: 0.8576697707176208\n",
            "Step 500 R-Squared: 0.858012318611145\n",
            "Step 600 R-Squared: 0.8582216501235962\n",
            "Step 700 R-Squared: 0.8583570718765259\n",
            "Step 800 R-Squared: 0.8584475517272949\n",
            "Step 900 R-Squared: 0.8585088849067688\n"
          ]
        }
      ]
    },
    {
      "cell_type": "code",
      "source": [
        "print(model.coefficients)\n",
        "print(model.intercept)"
      ],
      "metadata": {
        "colab": {
          "base_uri": "https://localhost:8080/"
        },
        "id": "cM1Z2xPdPOM8",
        "outputId": "0886a6a0-da38-4929-97c4-e1c61ffd9772"
      },
      "execution_count": 13,
      "outputs": [
        {
          "output_type": "stream",
          "name": "stdout",
          "text": [
            "[-2304.588       42.10295   4200.547     1618.1536     635.2579\n",
            "  2041.2012    1635.4426   12022.644     2205.7495   -1884.1558\n",
            "  3727.7793    -456.05234  12091.685     6282.655     1024.4338\n",
            " -2006.2737    2310.322     4183.5156    1363.8425     175.31981\n",
            " -2696.882     8340.476     4746.1924    -141.59502   1073.7736\n",
            "  4201.6626   -3491.3027    4275.466    -1118.3302    4286.069\n",
            "   755.6142   -1419.5288    3192.6128    -133.51602   1013.94275\n",
            "   445.72784  -1477.3622    8510.692     7479.5444   11286.721\n",
            "  2873.273     1207.6199     976.81805  -3052.6152   -3019.74\n",
            "  5863.918     6386.53      3142.1365    2424.504      375.67484\n",
            " -1841.8363     263.46204     55.584454  5586.49      1283.6678\n",
            "   114.65431  -2226.829      -68.69399   2418.2124    -129.31169\n",
            "  -336.16888   2187.6536   -8785.606     9677.463     -216.31047\n",
            "  4385.724     2534.7065  ]\n",
            "180920.81\n"
          ]
        }
      ]
    },
    {
      "cell_type": "code",
      "source": [
        "score({\"weights\": model.coefficients, \"bias\": model.intercept}, x_data, y_data)"
      ],
      "metadata": {
        "colab": {
          "base_uri": "https://localhost:8080/"
        },
        "id": "MJXZwplPRgMB",
        "outputId": "be27fbc7-7fd2-4beb-a56f-ca6aba8b4317"
      },
      "execution_count": 14,
      "outputs": [
        {
          "output_type": "execute_result",
          "data": {
            "text/plain": [
              "DeviceArray(0.85855097, dtype=float32)"
            ]
          },
          "metadata": {},
          "execution_count": 14
        }
      ]
    }
  ]
}